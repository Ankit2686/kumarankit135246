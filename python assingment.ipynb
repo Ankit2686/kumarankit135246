{
 "cells": [
  {
   "cell_type": "code",
   "execution_count": null,
   "id": "ee9b66b2-1735-4dd8-9401-b9aa1f7f3a73",
   "metadata": {},
   "outputs": [],
   "source": [
    " # Q1. Create one variable containing following type of data:\n",
    "\n",
    "# (i)\tstring\n",
    "\n",
    "# (ii)\tlist\n",
    "\n",
    "# (iii)\tfloat\n",
    "\n",
    "# (iv)\ttuple \n"
   ]
  },
  {
   "cell_type": "code",
   "execution_count": 19,
   "id": "a73e3917-9cc0-4f62-89e0-a30ba2fce20b",
   "metadata": {},
   "outputs": [],
   "source": [
    "# (i)\tstring"
   ]
  },
  {
   "cell_type": "code",
   "execution_count": 20,
   "id": "bfca8c3a-f072-498d-a3c6-211d969a2bbb",
   "metadata": {},
   "outputs": [],
   "source": [
    "var_string = (\"Hello\")"
   ]
  },
  {
   "cell_type": "code",
   "execution_count": 21,
   "id": "6b2b733a-3ccf-440b-8fd5-24e1de348699",
   "metadata": {},
   "outputs": [
    {
     "data": {
      "text/plain": [
       "'Hello'"
      ]
     },
     "execution_count": 21,
     "metadata": {},
     "output_type": "execute_result"
    }
   ],
   "source": [
    "var_string"
   ]
  },
  {
   "cell_type": "code",
   "execution_count": null,
   "id": "6f9b2760-559d-4a8c-9997-a0e2024b1411",
   "metadata": {},
   "outputs": [],
   "source": [
    "# (ii)\tlist"
   ]
  },
  {
   "cell_type": "code",
   "execution_count": 28,
   "id": "b4bd75b8-90d8-4e99-afa4-d4fd0540d385",
   "metadata": {},
   "outputs": [],
   "source": [
    "var_list = [ 3,5,7,8,9]"
   ]
  },
  {
   "cell_type": "code",
   "execution_count": 24,
   "id": "a307c658-a7b3-4736-8ee6-7b5f15c3e45a",
   "metadata": {},
   "outputs": [
    {
     "data": {
      "text/plain": [
       "[3, 5, 7, 8, 9]"
      ]
     },
     "execution_count": 24,
     "metadata": {},
     "output_type": "execute_result"
    }
   ],
   "source": [
    "var_list"
   ]
  },
  {
   "cell_type": "code",
   "execution_count": null,
   "id": "b1261074-3027-46a4-8667-22e60f91bfc6",
   "metadata": {},
   "outputs": [],
   "source": [
    "# (iii)\tfloat"
   ]
  },
  {
   "cell_type": "code",
   "execution_count": 29,
   "id": "a07c495e-925a-42fc-b58a-94749f856f73",
   "metadata": {},
   "outputs": [],
   "source": [
    "var_float = 5.8"
   ]
  },
  {
   "cell_type": "code",
   "execution_count": 30,
   "id": "b9397139-9644-4153-8452-179970176155",
   "metadata": {},
   "outputs": [
    {
     "data": {
      "text/plain": [
       "5.8"
      ]
     },
     "execution_count": 30,
     "metadata": {},
     "output_type": "execute_result"
    }
   ],
   "source": [
    "var_float"
   ]
  },
  {
   "cell_type": "code",
   "execution_count": null,
   "id": "68104cf2-a7c6-49d7-a347-248683da5d1a",
   "metadata": {},
   "outputs": [],
   "source": [
    "# (iv)\ttuple "
   ]
  },
  {
   "cell_type": "code",
   "execution_count": 32,
   "id": "2c5983e0-34c1-45a6-ae2c-0e0f5b7acd38",
   "metadata": {},
   "outputs": [],
   "source": [
    "var_tuple = (19,38,57,76,95)"
   ]
  },
  {
   "cell_type": "code",
   "execution_count": 33,
   "id": "36c543b1-6905-43cd-b1ee-f5e5e00c8db2",
   "metadata": {},
   "outputs": [
    {
     "data": {
      "text/plain": [
       "(19, 38, 57, 76, 95)"
      ]
     },
     "execution_count": 33,
     "metadata": {},
     "output_type": "execute_result"
    }
   ],
   "source": [
    "var_tuple"
   ]
  },
  {
   "cell_type": "code",
   "execution_count": null,
   "id": "fec7f958-9cde-4acb-9ec8-ab2e200536e9",
   "metadata": {},
   "outputs": [],
   "source": [
    "#Q2. Given are some following variables containing data:\n",
    "\n",
    "#(i)\tvar1 = ‘ ‘\n",
    "\n",
    "#(ii)\tvar2 = ‘[ DS , ML , Python]’\n",
    "\n",
    "#(iii)\tvar3 = [ ‘DS’ , ’ML’ , ‘Python’ ]\n",
    "\n",
    "#(iv)\tvar4 = 1.\n"
   ]
  },
  {
   "cell_type": "code",
   "execution_count": null,
   "id": "9521112d-dabd-405a-8a52-385fa87c53f2",
   "metadata": {},
   "outputs": [],
   "source": [
    "#(i)\tvar1 = ‘ ‘"
   ]
  },
  {
   "cell_type": "code",
   "execution_count": 1,
   "id": "3a60c234-28bf-4122-af6b-7c17e248700e",
   "metadata": {},
   "outputs": [],
   "source": [
    "var1 = ''"
   ]
  },
  {
   "cell_type": "code",
   "execution_count": 2,
   "id": "4611b596-dec8-419b-b70e-5ca91425402b",
   "metadata": {},
   "outputs": [
    {
     "data": {
      "text/plain": [
       "str"
      ]
     },
     "execution_count": 2,
     "metadata": {},
     "output_type": "execute_result"
    }
   ],
   "source": [
    "type(var1)"
   ]
  },
  {
   "cell_type": "code",
   "execution_count": 6,
   "id": "0b0a1a87-8621-4a24-b089-3c06a3d6e665",
   "metadata": {},
   "outputs": [],
   "source": [
    "var2 = '[ DS , ML , Python]'"
   ]
  },
  {
   "cell_type": "code",
   "execution_count": 7,
   "id": "ba50c9ba-33ec-4b2e-a097-b454fc728be0",
   "metadata": {},
   "outputs": [
    {
     "data": {
      "text/plain": [
       "str"
      ]
     },
     "execution_count": 7,
     "metadata": {},
     "output_type": "execute_result"
    }
   ],
   "source": [
    "type(var2)"
   ]
  },
  {
   "cell_type": "code",
   "execution_count": 12,
   "id": "1195bf57-a296-4683-b785-bc3851f0c953",
   "metadata": {},
   "outputs": [],
   "source": [
    "var3 = ['DS','ML','Python']"
   ]
  },
  {
   "cell_type": "code",
   "execution_count": 13,
   "id": "b2ce0caa-4a54-46cb-93c8-8ee3b272af24",
   "metadata": {},
   "outputs": [
    {
     "data": {
      "text/plain": [
       "list"
      ]
     },
     "execution_count": 13,
     "metadata": {},
     "output_type": "execute_result"
    }
   ],
   "source": [
    "type(var3)"
   ]
  },
  {
   "cell_type": "code",
   "execution_count": 14,
   "id": "5ade8053-779e-45cc-aa9f-7ceb488c5378",
   "metadata": {},
   "outputs": [],
   "source": [
    "var4 = 1."
   ]
  },
  {
   "cell_type": "code",
   "execution_count": 15,
   "id": "17fe8c99-7971-4caf-aeb6-d8f3725332fe",
   "metadata": {},
   "outputs": [
    {
     "data": {
      "text/plain": [
       "float"
      ]
     },
     "execution_count": 15,
     "metadata": {},
     "output_type": "execute_result"
    }
   ],
   "source": [
    "type(var4)"
   ]
  },
  {
   "cell_type": "code",
   "execution_count": null,
   "id": "d5ddbce8-5a27-4e41-a87e-c66374eb3830",
   "metadata": {},
   "outputs": [],
   "source": [
    "#Q3. Explain the use of the following operators using an example:\n",
    "\n",
    "#(i)\t/\n",
    "\n",
    "#(ii)\t% \n",
    "\n",
    "#(iii)\t//\n",
    "\n",
    "#(iv)\t**\n"
   ]
  },
  {
   "cell_type": "code",
   "execution_count": null,
   "id": "7ed96abf-ffe1-44a0-8623-5f2555fbf8d3",
   "metadata": {},
   "outputs": [],
   "source": [
    "#(i)\t/"
   ]
  },
  {
   "cell_type": "code",
   "execution_count": 16,
   "id": "40b2b646-1404-439e-bda7-6bb97ae9e59a",
   "metadata": {},
   "outputs": [],
   "source": [
    "result = 221/4"
   ]
  },
  {
   "cell_type": "code",
   "execution_count": 17,
   "id": "f9cb0bed-99a0-41dc-b241-29a9565e1c19",
   "metadata": {},
   "outputs": [
    {
     "name": "stdout",
     "output_type": "stream",
     "text": [
      "55.25\n"
     ]
    }
   ],
   "source": [
    "print(result)"
   ]
  },
  {
   "cell_type": "code",
   "execution_count": null,
   "id": "145f5b25-0520-4ecd-8238-e3fd547cb0de",
   "metadata": {},
   "outputs": [],
   "source": [
    "#(ii)\t% "
   ]
  },
  {
   "cell_type": "code",
   "execution_count": 19,
   "id": "a99ef1b4-3997-42e3-96a3-5b85d3f688ce",
   "metadata": {},
   "outputs": [],
   "source": [
    "result1 = 221%4"
   ]
  },
  {
   "cell_type": "code",
   "execution_count": 20,
   "id": "6b1b380f-2e9f-47b5-9e6e-01c6d9df9297",
   "metadata": {},
   "outputs": [
    {
     "name": "stdout",
     "output_type": "stream",
     "text": [
      "1\n"
     ]
    }
   ],
   "source": [
    "print(result1)"
   ]
  },
  {
   "cell_type": "code",
   "execution_count": null,
   "id": "6e2787d4-e864-4406-b623-78223caf4cf1",
   "metadata": {},
   "outputs": [],
   "source": [
    "#(iii)\t//"
   ]
  },
  {
   "cell_type": "code",
   "execution_count": 21,
   "id": "866f8790-0ecc-480c-9fc8-a93a33368e7a",
   "metadata": {},
   "outputs": [],
   "source": [
    "result3 = 221//4"
   ]
  },
  {
   "cell_type": "code",
   "execution_count": 22,
   "id": "a4c3be88-b5e6-4cf1-8772-d2337324f6a2",
   "metadata": {},
   "outputs": [
    {
     "name": "stdout",
     "output_type": "stream",
     "text": [
      "55\n"
     ]
    }
   ],
   "source": [
    "print(result3)"
   ]
  },
  {
   "cell_type": "code",
   "execution_count": null,
   "id": "ed11b572-c61a-47b7-bca1-914f0a96e864",
   "metadata": {},
   "outputs": [],
   "source": [
    "#(iv)\t**"
   ]
  },
  {
   "cell_type": "code",
   "execution_count": 25,
   "id": "1e53a259-656f-4872-a3d9-5522f584e0e8",
   "metadata": {},
   "outputs": [],
   "source": [
    "result4 = 1**4"
   ]
  },
  {
   "cell_type": "code",
   "execution_count": 26,
   "id": "9ff08eb5-b643-4eb2-aa7a-e973a47483a6",
   "metadata": {},
   "outputs": [
    {
     "name": "stdout",
     "output_type": "stream",
     "text": [
      "1\n"
     ]
    }
   ],
   "source": [
    "print(result4)"
   ]
  },
  {
   "cell_type": "code",
   "execution_count": null,
   "id": "3ef382e0-670f-4aff-86d0-df6dd8ead97f",
   "metadata": {},
   "outputs": [],
   "source": [
    "#Q4. Create a list of length 10 of your choice containing multiple types of data. Using for loop print the lement and its data type. \n",
    "e\n"
   ]
  },
  {
   "cell_type": "code",
   "execution_count": 1,
   "id": "bfab809a-ba42-45c4-b7da-7db9178fc263",
   "metadata": {},
   "outputs": [],
   "source": [
    "my_list = [10, \"Hello\", 3.14, True, [1, 2, 3], (4, 5), {'key': 'value'}, None, \"Python\", False]\n"
   ]
  },
  {
   "cell_type": "code",
   "execution_count": 6,
   "id": "6232d2de-a9f2-451f-8217-81b2bb0c69e2",
   "metadata": {},
   "outputs": [
    {
     "name": "stdout",
     "output_type": "stream",
     "text": [
      "10 - <class 'int'>\n",
      "Hello - <class 'str'>\n",
      "3.14 - <class 'float'>\n",
      "True - <class 'bool'>\n",
      "[1, 2, 3] - <class 'list'>\n",
      "(4, 5) - <class 'tuple'>\n",
      "{'key': 'value'} - <class 'dict'>\n",
      "None - <class 'NoneType'>\n",
      "Python - <class 'str'>\n",
      "False - <class 'bool'>\n"
     ]
    }
   ],
   "source": [
    "for element in my_list:\n",
    "    print(f\"{element} - {type(element)}\")\n",
    "\n"
   ]
  },
  {
   "cell_type": "code",
   "execution_count": null,
   "id": "474eb381-1c2b-4559-85ca-903a1f1144d8",
   "metadata": {},
   "outputs": [],
   "source": [
    "#Q5. Using a while loop, verify if number A is purely divisible by number B and find out how many times it can be divisible:\n"
   ]
  },
  {
   "cell_type": "code",
   "execution_count": 4,
   "id": "3233321b-e925-4310-8056-27fb82546fb7",
   "metadata": {},
   "outputs": [
    {
     "name": "stdout",
     "output_type": "stream",
     "text": [
      "number a is divisible by b 2 times\n"
     ]
    }
   ],
   "source": [
    "a = 50\n",
    "b = 5\n",
    "divisible_count = 0\n",
    "\n",
    "while a%b==0 :\n",
    "    a/=b\n",
    "    divisible_count += 1\n",
    "print(f\"number a is divisible by b {divisible_count} times\")"
   ]
  },
  {
   "cell_type": "code",
   "execution_count": null,
   "id": "b09819ce-02b5-416b-aa09-bd342d8732d8",
   "metadata": {},
   "outputs": [],
   "source": [
    "#Q6. Create a list containing 25 int type data. Using a for loop and an if-else condition, print if the element is divisible by 3 or not:\n"
   ]
  },
  {
   "cell_type": "code",
   "execution_count": 5,
   "id": "605d908a-7e87-45cf-a84b-6d485d4375b6",
   "metadata": {},
   "outputs": [
    {
     "name": "stdout",
     "output_type": "stream",
     "text": [
      "1 is not divisible by 3.\n",
      "2 is not divisible by 3.\n",
      "3 is divisible by 3.\n",
      "4 is not divisible by 3.\n",
      "5 is not divisible by 3.\n",
      "6 is divisible by 3.\n",
      "7 is not divisible by 3.\n",
      "8 is not divisible by 3.\n",
      "9 is divisible by 3.\n",
      "10 is not divisible by 3.\n",
      "11 is not divisible by 3.\n",
      "12 is divisible by 3.\n",
      "13 is not divisible by 3.\n",
      "14 is not divisible by 3.\n",
      "15 is divisible by 3.\n",
      "16 is not divisible by 3.\n",
      "17 is not divisible by 3.\n",
      "18 is divisible by 3.\n",
      "19 is not divisible by 3.\n",
      "20 is not divisible by 3.\n",
      "21 is divisible by 3.\n",
      "22 is not divisible by 3.\n",
      "23 is not divisible by 3.\n",
      "24 is divisible by 3.\n",
      "25 is not divisible by 3.\n"
     ]
    }
   ],
   "source": [
    "my_list = list(range(1, 26))\n",
    "\n",
    "for num in my_list:\n",
    "    if num % 3 == 0:\n",
    "        print(f\"{num} is divisible by 3.\")\n",
    "    else:\n",
    "        print(f\"{num} is not divisible by 3.\")\n"
   ]
  },
  {
   "cell_type": "code",
   "execution_count": null,
   "id": "5c574912-c83c-46db-9afc-97d0a1118478",
   "metadata": {},
   "outputs": [],
   "source": [
    "#Q7. Mutable and Immutable data types:"
   ]
  },
  {
   "cell_type": "code",
   "execution_count": 7,
   "id": "98159883-d82f-43a0-b738-b4ab38c2ab71",
   "metadata": {},
   "outputs": [
    {
     "name": "stdout",
     "output_type": "stream",
     "text": [
      "[10, 2, 3]\n"
     ]
    }
   ],
   "source": [
    "mutable_list = [1, 2, 3]\n",
    "mutable_list[0] = 10\n",
    "print(mutable_list)"
   ]
  },
  {
   "cell_type": "code",
   "execution_count": 19,
   "id": "8664bda1-ab9a-4f00-83c4-6363dd4da45c",
   "metadata": {},
   "outputs": [
    {
     "ename": "TypeError",
     "evalue": "'tuple' object does not support item assignment",
     "output_type": "error",
     "traceback": [
      "\u001b[0;31m---------------------------------------------------------------------------\u001b[0m",
      "\u001b[0;31mTypeError\u001b[0m                                 Traceback (most recent call last)",
      "Cell \u001b[0;32mIn[19], line 3\u001b[0m\n\u001b[1;32m      1\u001b[0m immutable_tuple \u001b[38;5;241m=\u001b[39m (\u001b[38;5;241m1\u001b[39m, \u001b[38;5;241m2\u001b[39m, \u001b[38;5;241m3\u001b[39m)\n\u001b[1;32m      2\u001b[0m \u001b[38;5;66;03m# The following line will raise an error since tuples are immutable.\u001b[39;00m\n\u001b[0;32m----> 3\u001b[0m \u001b[43mimmutable_tuple\u001b[49m\u001b[43m[\u001b[49m\u001b[38;5;241;43m0\u001b[39;49m\u001b[43m]\u001b[49m \u001b[38;5;241m=\u001b[39m \u001b[38;5;241m10\u001b[39m\n",
      "\u001b[0;31mTypeError\u001b[0m: 'tuple' object does not support item assignment"
     ]
    }
   ],
   "source": [
    "immutable_tuple = (1, 2, 3)\n",
    "# The following line will raise an error since tuples are immutable.\n",
    "immutable_tuple[0] = 10\n"
   ]
  },
  {
   "cell_type": "code",
   "execution_count": null,
   "id": "b924d087-5d6a-410e-a176-1617d57d26bc",
   "metadata": {},
   "outputs": [],
   "source": []
  }
 ],
 "metadata": {
  "kernelspec": {
   "display_name": "Python 3 (ipykernel)",
   "language": "python",
   "name": "python3"
  },
  "language_info": {
   "codemirror_mode": {
    "name": "ipython",
    "version": 3
   },
   "file_extension": ".py",
   "mimetype": "text/x-python",
   "name": "python",
   "nbconvert_exporter": "python",
   "pygments_lexer": "ipython3",
   "version": "3.10.8"
  }
 },
 "nbformat": 4,
 "nbformat_minor": 5
}
