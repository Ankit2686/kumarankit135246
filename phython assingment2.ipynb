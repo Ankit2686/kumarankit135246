{
 "cells": [
  {
   "cell_type": "code",
   "execution_count": null,
   "id": "0a062057-5c8c-4494-8288-534ea38305c5",
   "metadata": {},
   "outputs": [],
   "source": [
    "#Q1. How do you comment code in Python? What are the different types of comments?"
   ]
  },
  {
   "cell_type": "code",
   "execution_count": 1,
   "id": "4ab9e600-cf88-4097-a233-b405befba11b",
   "metadata": {},
   "outputs": [
    {
     "name": "stdout",
     "output_type": "stream",
     "text": [
      "Hello word\n"
     ]
    }
   ],
   "source": [
    "#single line comment\n",
    "print ('Hello word')"
   ]
  },
  {
   "cell_type": "code",
   "execution_count": 2,
   "id": "90c347d1-f6f2-4975-8039-aaf7dbadfa16",
   "metadata": {},
   "outputs": [],
   "source": [
    "'''\n",
    "this is multiline comment\n",
    "use in python programming language\n",
    "'''\n",
    "def hello() :\n",
    "    ''' this is a function '''"
   ]
  },
  {
   "cell_type": "code",
   "execution_count": null,
   "id": "45ae3c28-b1b3-443d-87eb-9e691244f19c",
   "metadata": {},
   "outputs": [],
   "source": [
    "#Q2. What are variables in Python? How do you declare and assign values to variables?"
   ]
  },
  {
   "cell_type": "code",
   "execution_count": 6,
   "id": "0b608c64-a9ef-4e87-9e4e-d170c40bebc3",
   "metadata": {},
   "outputs": [],
   "source": [
    "#Variable declaration \n",
    "x= 7\n",
    "name = \"Ankit\"\n",
    "is_student = True\n",
    "a,b,c = 3, 5, \"ankit\""
   ]
  },
  {
   "cell_type": "code",
   "execution_count": null,
   "id": "c2ab568d-7152-4a96-a560-0920514dec45",
   "metadata": {},
   "outputs": [],
   "source": [
    "#Q3. How do you convert one data type to another in Python?"
   ]
  },
  {
   "cell_type": "code",
   "execution_count": 1,
   "id": "eca5ba92-f507-4786-a895-16e310f8de6a",
   "metadata": {},
   "outputs": [
    {
     "name": "stdout",
     "output_type": "stream",
     "text": [
      "15\n"
     ]
    }
   ],
   "source": [
    "# Examples of type casting\n",
    "#int(): Converts to an integer.\n",
    "x = 7\n",
    "y = \"8\"\n",
    "\n",
    "result = x+int(y)\n",
    "print(result)\n"
   ]
  },
  {
   "cell_type": "code",
   "execution_count": 4,
   "id": "48cab3c4-4a39-41ac-b72c-bb905f679edc",
   "metadata": {},
   "outputs": [
    {
     "name": "stdout",
     "output_type": "stream",
     "text": [
      "12.0\n"
     ]
    }
   ],
   "source": [
    "#float(): Converts to a floating-point number.\n",
    "\n",
    "y = 12\n",
    "\n",
    "x = float(y)\n",
    "print(x)"
   ]
  },
  {
   "cell_type": "code",
   "execution_count": 5,
   "id": "40ac40d5-1205-4124-8d6d-aeb6d1667ad8",
   "metadata": {},
   "outputs": [
    {
     "name": "stdout",
     "output_type": "stream",
     "text": [
      "4.6\n"
     ]
    }
   ],
   "source": [
    "#str(): Converts to a string.\n",
    "x= 4.6\n",
    "y = str(x)\n",
    "print(y)"
   ]
  },
  {
   "cell_type": "code",
   "execution_count": 6,
   "id": "73c3b725-aa77-4828-8bdd-5efc25c48d50",
   "metadata": {},
   "outputs": [
    {
     "name": "stdout",
     "output_type": "stream",
     "text": [
      "[' ankit', 4, 7]\n"
     ]
    }
   ],
   "source": [
    "x = [\" ankit\", 4, 7 ]\n",
    "y = str(x)\n",
    "print(y)"
   ]
  },
  {
   "cell_type": "code",
   "execution_count": 7,
   "id": "6744fe12-0a3f-4412-a3ad-80ebfa18f0b7",
   "metadata": {},
   "outputs": [
    {
     "name": "stdout",
     "output_type": "stream",
     "text": [
      "['d', 'a', 't', 'a', ' ', 's', 'c', 'i', 'e', 'n', 'c', 'e']\n"
     ]
    }
   ],
   "source": [
    "#list(): Converts to a list\n",
    "x= \"data science\"\n",
    "y= list(x)\n",
    "print(y)\n"
   ]
  },
  {
   "cell_type": "code",
   "execution_count": 8,
   "id": "c9cfb0c0-9fdb-433e-961f-0644c77246ce",
   "metadata": {},
   "outputs": [
    {
     "name": "stdout",
     "output_type": "stream",
     "text": [
      "(1, 2, 3, 45)\n"
     ]
    }
   ],
   "source": [
    "#tuple(): Converts to a tuple.\n",
    "x = 1,2,3,45\n",
    "y = tuple(x)\n",
    "print (y)"
   ]
  },
  {
   "cell_type": "code",
   "execution_count": 10,
   "id": "e07d492d-1ba2-4ccb-bdc8-cd9b6c73c785",
   "metadata": {},
   "outputs": [
    {
     "name": "stdout",
     "output_type": "stream",
     "text": [
      "True\n"
     ]
    }
   ],
   "source": [
    "#bool(): Converts to a boolean.\n",
    "x = 1\n",
    "y = bool(x)\n",
    "print(y)"
   ]
  },
  {
   "cell_type": "code",
   "execution_count": 11,
   "id": "0681ed42-1af6-49c3-a034-92a8f698802c",
   "metadata": {},
   "outputs": [
    {
     "name": "stdout",
     "output_type": "stream",
     "text": [
      "False\n"
     ]
    }
   ],
   "source": [
    "x = 0\n",
    "y = bool(x)\n",
    "print(y)"
   ]
  },
  {
   "cell_type": "code",
   "execution_count": 16,
   "id": "0f3cf2f1-8044-4b03-a10f-6043e078237f",
   "metadata": {},
   "outputs": [
    {
     "name": "stdout",
     "output_type": "stream",
     "text": [
      "[2, 3]\n"
     ]
    }
   ],
   "source": [
    "#Q5. Given a list my_list = [1, 2, 3, 4, 5], write the code to slice the list and obtain the sub-list [2, 3].\n",
    "my_list = [1, 2, 3, 4, 5]\n",
    "sub_list = my_list[1:3]\n",
    "print(sub_list)\n"
   ]
  },
  {
   "cell_type": "code",
   "execution_count": 18,
   "id": "3b223a7f-4b19-4b34-9b58-b1e85bad2506",
   "metadata": {},
   "outputs": [
    {
     "name": "stdout",
     "output_type": "stream",
     "text": [
      "(3+3j)\n"
     ]
    }
   ],
   "source": [
    "#Q6. What is a complex number in mathematics, and how is it represented in Python?\n",
    "a= complex(5,7)\n",
    "b = 2+4j\n",
    "# Operations with complex numbers\n",
    "result= a-b\n",
    "print(result)"
   ]
  },
  {
   "cell_type": "code",
   "execution_count": 19,
   "id": "da8988ce-1381-490d-8eec-091253bf9f99",
   "metadata": {},
   "outputs": [],
   "source": [
    "#Q7. What is the correct way to declare a variable named age and assign the value 25 to it?\n",
    "age = 25"
   ]
  },
  {
   "cell_type": "code",
   "execution_count": 21,
   "id": "afd37402-acba-4042-b4a3-ac4dd17d464d",
   "metadata": {},
   "outputs": [
    {
     "data": {
      "text/plain": [
       "float"
      ]
     },
     "execution_count": 21,
     "metadata": {},
     "output_type": "execute_result"
    }
   ],
   "source": [
    "#Q8. Declare a variable named price and assign the value 9.99 to it. What data type does this variable belong to?\n",
    "Price = 9.99\n",
    "type(Price)"
   ]
  },
  {
   "cell_type": "code",
   "execution_count": 22,
   "id": "2f19713e-6e0f-4d56-830c-5e6543d1ef49",
   "metadata": {},
   "outputs": [
    {
     "name": "stdout",
     "output_type": "stream",
     "text": [
      "ankit kumar regar\n"
     ]
    }
   ],
   "source": [
    "#Q9. Create a variable named name and assign your full name to it as a string. How would you print the value of this variable?\n",
    "Name = \"ankit kumar regar\"\n",
    "print(Name)"
   ]
  },
  {
   "cell_type": "code",
   "execution_count": 24,
   "id": "24ba1eea-b781-4e22-9eb7-675bcf0cd315",
   "metadata": {},
   "outputs": [
    {
     "name": "stdout",
     "output_type": "stream",
     "text": [
      "world\n"
     ]
    }
   ],
   "source": [
    "#Q10. Given the string \"Hello, World!\", extract the substring \"World\".\n",
    "name = \"hello world\"\n",
    "sub_string=name[6:12]\n",
    "print(sub_string)"
   ]
  },
  {
   "cell_type": "code",
   "execution_count": null,
   "id": "cf371972-2ebf-4f11-a8d1-5a941bae579e",
   "metadata": {},
   "outputs": [],
   "source": [
    "#Q11. Create a variable named is_student and assign it a boolean value indicating whether you are currently a student or not\n",
    "\n",
    "is_student = True #if you are student\n",
    "is_student = False #if youn are not student\n"
   ]
  },
  {
   "cell_type": "code",
   "execution_count": null,
   "id": "24209df5-0680-4509-9418-7ac16e8411bf",
   "metadata": {},
   "outputs": [],
   "source": []
  },
  {
   "cell_type": "code",
   "execution_count": null,
   "id": "381bc84c-ae2f-45bf-a73f-0260a3891ea5",
   "metadata": {},
   "outputs": [],
   "source": []
  }
 ],
 "metadata": {
  "kernelspec": {
   "display_name": "Python 3 (ipykernel)",
   "language": "python",
   "name": "python3"
  },
  "language_info": {
   "codemirror_mode": {
    "name": "ipython",
    "version": 3
   },
   "file_extension": ".py",
   "mimetype": "text/x-python",
   "name": "python",
   "nbconvert_exporter": "python",
   "pygments_lexer": "ipython3",
   "version": "3.10.8"
  }
 },
 "nbformat": 4,
 "nbformat_minor": 5
}
